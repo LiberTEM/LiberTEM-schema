{
 "cells": [
  {
   "cell_type": "code",
   "execution_count": 264,
   "id": "27ec72cd-9a31-44b1-8573-d381ef192780",
   "metadata": {},
   "outputs": [],
   "source": [
    "from typing import Any, Sequence, get_args, get_origin, Callable\n",
    "import functools\n",
    "\n",
    "from typing_extensions import Annotated, TypeVar\n",
    "\n",
    "import numpy as np\n",
    "\n",
    "import numpydantic\n",
    "\n",
    "import pydantic\n",
    "from pydantic_core import core_schema\n",
    "from pydantic import (\n",
    "    BaseModel,\n",
    "    GetCoreSchemaHandler,\n",
    "    WrapValidator,\n",
    "    ValidationInfo,\n",
    "    ValidatorFunctionWrapHandler,\n",
    ")\n",
    "\n",
    "import pint"
   ]
  },
  {
   "cell_type": "code",
   "execution_count": 2,
   "id": "2b14c7cd-c1ff-4274-bab3-3cb8a9dd31d3",
   "metadata": {},
   "outputs": [],
   "source": [
    "ureg = pint.UnitRegistry()"
   ]
  },
  {
   "cell_type": "code",
   "execution_count": 3,
   "id": "0bd4e497-4f3b-4fa2-aae7-cda17c08ccbe",
   "metadata": {},
   "outputs": [],
   "source": [
    "class DimensionError(ValueError):\n",
    "    pass"
   ]
  },
  {
   "cell_type": "code",
   "execution_count": 36,
   "id": "2cd7e50f-6f2c-4eb5-8ce1-462402539d56",
   "metadata": {},
   "outputs": [],
   "source": [
    "_pint_base_repr = core_schema.tuple_positional_schema(items_schema=[\n",
    "    core_schema.float_schema(),\n",
    "    core_schema.str_schema()\n",
    "])"
   ]
  },
  {
   "cell_type": "code",
   "execution_count": 94,
   "id": "35801fc1-94b1-48b1-aa45-58353d59862c",
   "metadata": {},
   "outputs": [
    {
     "ename": "KeyError",
     "evalue": "(<class 'numpy.float16'>, <class 'numpy.float32'>, <class 'numpy.float64'>, <class 'numpy.float32'>, <class 'numpy.float64'>)",
     "output_type": "error",
     "traceback": [
      "\u001b[0;31m---------------------------------------------------------------------------\u001b[0m",
      "\u001b[0;31mKeyError\u001b[0m                                  Traceback (most recent call last)",
      "Cell \u001b[0;32mIn[94], line 1\u001b[0m\n\u001b[0;32m----> 1\u001b[0m \u001b[43mnumpydantic\u001b[49m\u001b[38;5;241;43m.\u001b[39;49m\u001b[43mmaps\u001b[49m\u001b[38;5;241;43m.\u001b[39;49m\u001b[43mnp_to_python\u001b[49m\u001b[43m[\u001b[49m\u001b[43mnumpydantic\u001b[49m\u001b[38;5;241;43m.\u001b[39;49m\u001b[43mdtype\u001b[49m\u001b[38;5;241;43m.\u001b[39;49m\u001b[43mFloat\u001b[49m\u001b[43m]\u001b[49m\n",
      "\u001b[0;31mKeyError\u001b[0m: (<class 'numpy.float16'>, <class 'numpy.float32'>, <class 'numpy.float64'>, <class 'numpy.float32'>, <class 'numpy.float64'>)"
     ]
    }
   ],
   "source": [
    "numpydantic.maps.np_to_python[numpydantic.dtype.Float]"
   ]
  },
  {
   "cell_type": "code",
   "execution_count": 9,
   "id": "4fdb7df5-c483-495a-ace8-61da166aae16",
   "metadata": {},
   "outputs": [
    {
     "data": {
      "text/plain": [
       "{'type': 'json-or-python',\n",
       " 'json_schema': {'type': 'list',\n",
       "  'items_schema': {'type': 'list',\n",
       "   'items_schema': {'type': 'float'},\n",
       "   'min_length': 2,\n",
       "   'max_length': 2,\n",
       "   'metadata': {'name': 'y'}},\n",
       "  'min_length': 2,\n",
       "  'max_length': 2,\n",
       "  'metadata': {'name': 'x'}},\n",
       " 'python_schema': {'type': 'function-plain',\n",
       "  'function': {'type': 'with-info',\n",
       "   'function': <function numpydantic.schema.get_validate_interface.<locals>.validate_interface(value: Any, info: Optional[ForwardRef('ValidationInfo')] = None) -> numpydantic.types.NDArrayType>}},\n",
       " 'serialization': {'type': 'function-plain',\n",
       "  'function': <function numpydantic.schema._jsonize_array(value: Any, info: pydantic_core.core_schema.SerializationInfo) -> Union[list, dict]>,\n",
       "  'info_arg': True,\n",
       "  'when_used': 'json'}}"
      ]
     },
     "execution_count": 9,
     "metadata": {},
     "output_type": "execute_result"
    }
   ],
   "source": [
    "numpydantic.NDArray.__get_pydantic_core_schema__(_source_type=numpydantic.NDArray[numpydantic.Shape['2 x, 2 y'], numpydantic.dtype.Float], _handler=None)"
   ]
  },
  {
   "cell_type": "code",
   "execution_count": 109,
   "id": "81a19c2f-89c6-43fe-8827-a4b5ee95c64a",
   "metadata": {},
   "outputs": [
    {
     "ename": "DtypeError",
     "evalue": "Invalid dtype! expected (<class 'numpy.int8'>, <class 'numpy.int16'>, <class 'numpy.int32'>, <class 'numpy.int64'>, <class 'numpy.int16'>, <class 'numpy.uint8'>, <class 'numpy.uint16'>, <class 'numpy.uint32'>, <class 'numpy.uint64'>, <class 'numpy.uint16'>), got float64",
     "output_type": "error",
     "traceback": [
      "\u001b[0;31m---------------------------------------------------------------------------\u001b[0m",
      "\u001b[0;31mDtypeError\u001b[0m                                Traceback (most recent call last)",
      "Cell \u001b[0;32mIn[109], line 1\u001b[0m\n\u001b[0;32m----> 1\u001b[0m \u001b[43mnumpydantic\u001b[49m\u001b[38;5;241;43m.\u001b[39;49m\u001b[43mschema\u001b[49m\u001b[38;5;241;43m.\u001b[39;49m\u001b[43mget_validate_interface\u001b[49m\u001b[43m(\u001b[49m\u001b[43mAny\u001b[49m\u001b[43m,\u001b[49m\u001b[43m \u001b[49m\u001b[43mnumpydantic\u001b[49m\u001b[38;5;241;43m.\u001b[39;49m\u001b[43mdtype\u001b[49m\u001b[38;5;241;43m.\u001b[39;49m\u001b[43mInt\u001b[49m\u001b[43m)\u001b[49m\u001b[43m(\u001b[49m\u001b[38;5;241;43m2.3\u001b[39;49m\u001b[43m)\u001b[49m\n",
      "File \u001b[0;32m~/miniconda3/envs/ltschema312/lib/python3.12/site-packages/numpydantic/schema.py:251\u001b[0m, in \u001b[0;36mget_validate_interface.<locals>.validate_interface\u001b[0;34m(value, info)\u001b[0m\n\u001b[1;32m    249\u001b[0m interface_cls \u001b[38;5;241m=\u001b[39m Interface\u001b[38;5;241m.\u001b[39mmatch(value)\n\u001b[1;32m    250\u001b[0m interface \u001b[38;5;241m=\u001b[39m interface_cls(shape, dtype)\n\u001b[0;32m--> 251\u001b[0m value \u001b[38;5;241m=\u001b[39m \u001b[43minterface\u001b[49m\u001b[38;5;241;43m.\u001b[39;49m\u001b[43mvalidate\u001b[49m\u001b[43m(\u001b[49m\u001b[43mvalue\u001b[49m\u001b[43m)\u001b[49m\n\u001b[1;32m    252\u001b[0m \u001b[38;5;28;01mreturn\u001b[39;00m value\n",
      "File \u001b[0;32m~/miniconda3/envs/ltschema312/lib/python3.12/site-packages/numpydantic/interface/interface.py:81\u001b[0m, in \u001b[0;36mInterface.validate\u001b[0;34m(self, array)\u001b[0m\n\u001b[1;32m     79\u001b[0m dtype \u001b[38;5;241m=\u001b[39m \u001b[38;5;28mself\u001b[39m\u001b[38;5;241m.\u001b[39mget_dtype(array)\n\u001b[1;32m     80\u001b[0m dtype_valid \u001b[38;5;241m=\u001b[39m \u001b[38;5;28mself\u001b[39m\u001b[38;5;241m.\u001b[39mvalidate_dtype(dtype)\n\u001b[0;32m---> 81\u001b[0m \u001b[38;5;28;43mself\u001b[39;49m\u001b[38;5;241;43m.\u001b[39;49m\u001b[43mraise_for_dtype\u001b[49m\u001b[43m(\u001b[49m\u001b[43mdtype_valid\u001b[49m\u001b[43m,\u001b[49m\u001b[43m \u001b[49m\u001b[43mdtype\u001b[49m\u001b[43m)\u001b[49m\n\u001b[1;32m     82\u001b[0m array \u001b[38;5;241m=\u001b[39m \u001b[38;5;28mself\u001b[39m\u001b[38;5;241m.\u001b[39mafter_validate_dtype(array)\n\u001b[1;32m     84\u001b[0m shape \u001b[38;5;241m=\u001b[39m \u001b[38;5;28mself\u001b[39m\u001b[38;5;241m.\u001b[39mget_shape(array)\n",
      "File \u001b[0;32m~/miniconda3/envs/ltschema312/lib/python3.12/site-packages/numpydantic/interface/interface.py:150\u001b[0m, in \u001b[0;36mInterface.raise_for_dtype\u001b[0;34m(self, valid, dtype)\u001b[0m\n\u001b[1;32m    144\u001b[0m \u001b[38;5;250m\u001b[39m\u001b[38;5;124;03m\"\"\"\u001b[39;00m\n\u001b[1;32m    145\u001b[0m \u001b[38;5;124;03mAfter validating, raise an exception if invalid\u001b[39;00m\n\u001b[1;32m    146\u001b[0m \u001b[38;5;124;03mRaises:\u001b[39;00m\n\u001b[1;32m    147\u001b[0m \u001b[38;5;124;03m    :class:`~numpydantic.exceptions.DtypeError`\u001b[39;00m\n\u001b[1;32m    148\u001b[0m \u001b[38;5;124;03m\"\"\"\u001b[39;00m\n\u001b[1;32m    149\u001b[0m \u001b[38;5;28;01mif\u001b[39;00m \u001b[38;5;129;01mnot\u001b[39;00m valid:\n\u001b[0;32m--> 150\u001b[0m     \u001b[38;5;28;01mraise\u001b[39;00m DtypeError(\u001b[38;5;124mf\u001b[39m\u001b[38;5;124m\"\u001b[39m\u001b[38;5;124mInvalid dtype! expected \u001b[39m\u001b[38;5;132;01m{\u001b[39;00m\u001b[38;5;28mself\u001b[39m\u001b[38;5;241m.\u001b[39mdtype\u001b[38;5;132;01m}\u001b[39;00m\u001b[38;5;124m, got \u001b[39m\u001b[38;5;132;01m{\u001b[39;00mdtype\u001b[38;5;132;01m}\u001b[39;00m\u001b[38;5;124m\"\u001b[39m)\n",
      "\u001b[0;31mDtypeError\u001b[0m: Invalid dtype! expected (<class 'numpy.int8'>, <class 'numpy.int16'>, <class 'numpy.int32'>, <class 'numpy.int64'>, <class 'numpy.int16'>, <class 'numpy.uint8'>, <class 'numpy.uint16'>, <class 'numpy.uint32'>, <class 'numpy.uint64'>, <class 'numpy.uint16'>), got float64"
     ]
    }
   ],
   "source": [
    "numpydantic.schema.get_validate_interface(Any, numpydantic.dtype.Int)(2.3)"
   ]
  },
  {
   "cell_type": "code",
   "execution_count": 341,
   "id": "bc4490f0-a75f-4164-86b3-e9036169b046",
   "metadata": {},
   "outputs": [
    {
     "data": {
      "text/plain": [
       "dtype('float32')"
      ]
     },
     "execution_count": 341,
     "metadata": {},
     "output_type": "execute_result"
    }
   ],
   "source": [
    "np.dtype('float32')"
   ]
  },
  {
   "cell_type": "code",
   "execution_count": 82,
   "id": "a94ab906-419a-4860-bbf9-86deed62876c",
   "metadata": {},
   "outputs": [
    {
     "data": {
      "text/plain": [
       "typing.Union[str, type, typing.Any, numpy.generic]"
      ]
     },
     "execution_count": 82,
     "metadata": {},
     "output_type": "execute_result"
    }
   ],
   "source": []
  },
  {
   "cell_type": "code",
   "execution_count": 322,
   "id": "9ffb235e-bf5e-43cd-8da6-5f9a8d802d01",
   "metadata": {},
   "outputs": [],
   "source": [
    "def to_tuple(q: pint.Quantity):\n",
    "    base = q.to_base_units()\n",
    "    return (base.magnitude, str(base.units))\n",
    "\n",
    "def to_array_tuple(q: pint.Quantity, info, array_serializer: Callable):\n",
    "    base = q.to_base_units()\n",
    "    return (array_serializer(base.magnitude, info=info), str(base.units))"
   ]
  },
  {
   "cell_type": "code",
   "execution_count": 323,
   "id": "9e81f832-ab66-4d41-8020-25e40deb0b58",
   "metadata": {},
   "outputs": [
    {
     "name": "stdout",
     "output_type": "stream",
     "text": [
      "dummy 23 None\n"
     ]
    },
    {
     "data": {
      "text/plain": [
       "(None, 'meter')"
      ]
     },
     "execution_count": 323,
     "metadata": {},
     "output_type": "execute_result"
    }
   ],
   "source": [
    "def dummy_serializer(value, info):\n",
    "    print(\"dummy\", value, info)\n",
    "\n",
    "functools.partial(to_array_tuple, array_serializer=dummy_serializer)(pint.Quantity(23, 'm'), info=None)"
   ]
  },
  {
   "cell_type": "code",
   "execution_count": 277,
   "id": "7c724ba0-b273-4a99-bdd5-09eb5237ca87",
   "metadata": {},
   "outputs": [],
   "source": [
    "def get_basic_type(t):\n",
    "    if isinstance(t, str):\n",
    "        t = np.dtype(t)\n",
    "    if isinstance(t, Sequence):\n",
    "        # numpydantic.dtype.Float is a sequence, for example\n",
    "        # They all map to the same basic Python type\n",
    "        t = t[0]\n",
    "    if t in (float, int, complex):\n",
    "        return t\n",
    "    dtype = np.dtype(t)\n",
    "    return numpydantic.maps.np_to_python[dtype.type]"
   ]
  },
  {
   "cell_type": "code",
   "execution_count": 278,
   "id": "8680a8bb-da5f-452b-91cf-afdb7b991971",
   "metadata": {},
   "outputs": [],
   "source": [
    "def get_schema(t):\n",
    "    basic_type = get_basic_type(t)\n",
    "    if basic_type is float:\n",
    "        return core_schema.float_schema()\n",
    "    elif basic_type is int:\n",
    "        return core_schema.int_schema()\n",
    "    elif basic_type is complex:\n",
    "        return core_schema.complex_schema()\n",
    "    else:\n",
    "        raise NotImplementedError(t)\n"
   ]
  },
  {
   "cell_type": "code",
   "execution_count": 279,
   "id": "3a55b6f8-49f3-4865-80ce-16eedcee9d3c",
   "metadata": {},
   "outputs": [],
   "source": [
    "class PintAnnotation:\n",
    "    @classmethod\n",
    "    def __get_pydantic_core_schema__(\n",
    "        cls,\n",
    "        _source_type: Any,\n",
    "        _handler: GetCoreSchemaHandler,\n",
    "    ) -> core_schema.CoreSchema:\n",
    "        \n",
    "        return core_schema.json_or_python_schema(\n",
    "            json_schema=_pint_base_repr,\n",
    "            python_schema=core_schema.is_instance_schema(pint.Quantity),\n",
    "            serialization=core_schema.plain_serializer_function_ser_schema(\n",
    "                to_tuple\n",
    "            ),\n",
    "        )"
   ]
  },
  {
   "cell_type": "code",
   "execution_count": 280,
   "id": "b6c8496e-7c2c-4526-a0aa-8ebf562f367c",
   "metadata": {},
   "outputs": [],
   "source": [
    "class PintArrayAnnotation:\n",
    "    @classmethod\n",
    "    def __get_pydantic_core_schema__(\n",
    "        cls,\n",
    "        _source_type: Any,\n",
    "        _handler: GetCoreSchemaHandler,\n",
    "    ) -> core_schema.CoreSchema:\n",
    "        \n",
    "        return core_schema.json_or_python_schema(\n",
    "            json_schema=_pint_base_repr,\n",
    "            python_schema=core_schema.is_instance_schema(pint.Quantity),\n",
    "            serialization=core_schema.plain_serializer_function_ser_schema(\n",
    "                to_tuple\n",
    "            ),\n",
    "        )"
   ]
  },
  {
   "cell_type": "code",
   "execution_count": 281,
   "id": "f8ddbb28-bfe4-485b-846a-5f776dba9a4a",
   "metadata": {},
   "outputs": [],
   "source": [
    "_length_dim = ureg.meter.dimensionality"
   ]
  },
  {
   "cell_type": "code",
   "execution_count": 282,
   "id": "2e06057a-62dc-4653-92df-85b025b1296e",
   "metadata": {},
   "outputs": [
    {
     "data": {
      "text/plain": [
       "'meter'"
      ]
     },
     "execution_count": 282,
     "metadata": {},
     "output_type": "execute_result"
    }
   ],
   "source": [
    "str((1 * ureg.meter).to_base_units().units)"
   ]
  },
  {
   "cell_type": "code",
   "execution_count": 342,
   "id": "37dbf128-bb00-4e22-9ae3-95513fd517c5",
   "metadata": {},
   "outputs": [],
   "source": [
    "t = numpydantic.NDArray[numpydantic.Shape['2 x, 2 y'], float]"
   ]
  },
  {
   "cell_type": "code",
   "execution_count": 343,
   "id": "5b12d306-152e-48ba-a9a9-14c79acba4f0",
   "metadata": {},
   "outputs": [
    {
     "ename": "TypeError",
     "evalue": "issubclass() arg 1 must be a class",
     "output_type": "error",
     "traceback": [
      "\u001b[0;31m---------------------------------------------------------------------------\u001b[0m",
      "\u001b[0;31mKeyError\u001b[0m                                  Traceback (most recent call last)",
      "File \u001b[0;32m~/miniconda3/envs/ltschema312/lib/python3.12/site-packages/numpydantic/schema.py:68\u001b[0m, in \u001b[0;36m_lol_dtype\u001b[0;34m(dtype, _handler)\u001b[0m\n\u001b[1;32m     67\u001b[0m \u001b[38;5;28;01mtry\u001b[39;00m:\n\u001b[0;32m---> 68\u001b[0m     python_type \u001b[38;5;241m=\u001b[39m \u001b[43mnp_to_python\u001b[49m\u001b[43m[\u001b[49m\u001b[43mdtype\u001b[49m\u001b[43m]\u001b[49m\n\u001b[1;32m     69\u001b[0m \u001b[38;5;28;01mexcept\u001b[39;00m \u001b[38;5;167;01mKeyError\u001b[39;00m:  \u001b[38;5;66;03m# pragma: no cover\u001b[39;00m\n\u001b[1;32m     70\u001b[0m     \u001b[38;5;66;03m# this should pretty much only happen in downstream/3rd-party interfaces\u001b[39;00m\n\u001b[1;32m     71\u001b[0m     \u001b[38;5;66;03m# that use interface-specific types. those need to provide mappings back\u001b[39;00m\n\u001b[1;32m     72\u001b[0m     \u001b[38;5;66;03m# to base python types (making this more streamlined is TODO)\u001b[39;00m\n",
      "\u001b[0;31mKeyError\u001b[0m: 'float32'",
      "\nDuring handling of the above exception, another exception occurred:\n",
      "\u001b[0;31mTypeError\u001b[0m                                 Traceback (most recent call last)",
      "Cell \u001b[0;32mIn[343], line 1\u001b[0m\n\u001b[0;32m----> 1\u001b[0m \u001b[43mt\u001b[49m\u001b[38;5;241;43m.\u001b[39;49m\u001b[43m__get_pydantic_core_schema__\u001b[49m\u001b[43m(\u001b[49m\u001b[43mt\u001b[49m\u001b[43m,\u001b[49m\u001b[43m \u001b[49m\u001b[38;5;28;43;01mNone\u001b[39;49;00m\u001b[43m)\u001b[49m\n",
      "File \u001b[0;32m~/miniconda3/envs/ltschema312/lib/python3.12/site-packages/numpydantic/ndarray.py:174\u001b[0m, in \u001b[0;36mNDArray.__get_pydantic_core_schema__\u001b[0;34m(cls, _source_type, _handler)\u001b[0m\n\u001b[1;32m    171\u001b[0m dtype: DtypeType\n\u001b[1;32m    173\u001b[0m \u001b[38;5;66;03m# get pydantic core schema as a list of lists for JSON schema\u001b[39;00m\n\u001b[0;32m--> 174\u001b[0m list_schema \u001b[38;5;241m=\u001b[39m \u001b[43mmake_json_schema\u001b[49m\u001b[43m(\u001b[49m\u001b[43mshape\u001b[49m\u001b[43m,\u001b[49m\u001b[43m \u001b[49m\u001b[43mdtype\u001b[49m\u001b[43m,\u001b[49m\u001b[43m \u001b[49m\u001b[43m_handler\u001b[49m\u001b[43m)\u001b[49m\n\u001b[1;32m    176\u001b[0m \u001b[38;5;28;01mreturn\u001b[39;00m core_schema\u001b[38;5;241m.\u001b[39mjson_or_python_schema(\n\u001b[1;32m    177\u001b[0m     json_schema\u001b[38;5;241m=\u001b[39mlist_schema,\n\u001b[1;32m    178\u001b[0m     python_schema\u001b[38;5;241m=\u001b[39mcore_schema\u001b[38;5;241m.\u001b[39mwith_info_plain_validator_function(\n\u001b[0;32m   (...)\u001b[0m\n\u001b[1;32m    183\u001b[0m     ),\n\u001b[1;32m    184\u001b[0m )\n",
      "File \u001b[0;32m~/miniconda3/envs/ltschema312/lib/python3.12/site-packages/numpydantic/schema.py:228\u001b[0m, in \u001b[0;36mmake_json_schema\u001b[0;34m(shape, dtype, _handler)\u001b[0m\n\u001b[1;32m    210\u001b[0m \u001b[38;5;28;01mdef\u001b[39;00m \u001b[38;5;21mmake_json_schema\u001b[39m(\n\u001b[1;32m    211\u001b[0m     shape: ShapeType, dtype: DtypeType, _handler: _handler_type\n\u001b[1;32m    212\u001b[0m ) \u001b[38;5;241m-\u001b[39m\u001b[38;5;241m>\u001b[39m ListSchema:\n\u001b[1;32m    213\u001b[0m \u001b[38;5;250m    \u001b[39m\u001b[38;5;124;03m\"\"\"\u001b[39;00m\n\u001b[1;32m    214\u001b[0m \u001b[38;5;124;03m    Make a list of list JSON schema from a shape and a dtype.\u001b[39;00m\n\u001b[1;32m    215\u001b[0m \n\u001b[0;32m   (...)\u001b[0m\n\u001b[1;32m    226\u001b[0m \u001b[38;5;124;03m        :class:`pydantic_core.core_schema.ListSchema`\u001b[39;00m\n\u001b[1;32m    227\u001b[0m \u001b[38;5;124;03m    \"\"\"\u001b[39;00m\n\u001b[0;32m--> 228\u001b[0m     dtype_schema \u001b[38;5;241m=\u001b[39m \u001b[43m_lol_dtype\u001b[49m\u001b[43m(\u001b[49m\u001b[43mdtype\u001b[49m\u001b[43m,\u001b[49m\u001b[43m \u001b[49m\u001b[43m_handler\u001b[49m\u001b[43m)\u001b[49m\n\u001b[1;32m    230\u001b[0m     \u001b[38;5;66;03m# get the names of the shape constraints, if any\u001b[39;00m\n\u001b[1;32m    231\u001b[0m     \u001b[38;5;28;01mif\u001b[39;00m shape \u001b[38;5;129;01mis\u001b[39;00m Any:\n",
      "File \u001b[0;32m~/miniconda3/envs/ltschema312/lib/python3.12/site-packages/numpydantic/schema.py:76\u001b[0m, in \u001b[0;36m_lol_dtype\u001b[0;34m(dtype, _handler)\u001b[0m\n\u001b[1;32m     73\u001b[0m \u001b[38;5;28;01mif\u001b[39;00m dtype \u001b[38;5;129;01min\u001b[39;00m np_to_python\u001b[38;5;241m.\u001b[39mvalues():\n\u001b[1;32m     74\u001b[0m     \u001b[38;5;66;03m# it's already a python type\u001b[39;00m\n\u001b[1;32m     75\u001b[0m     python_type \u001b[38;5;241m=\u001b[39m dtype\n\u001b[0;32m---> 76\u001b[0m \u001b[38;5;28;01melif\u001b[39;00m \u001b[38;5;28;43missubclass\u001b[39;49m\u001b[43m(\u001b[49m\u001b[43mdtype\u001b[49m\u001b[43m,\u001b[49m\u001b[43m \u001b[49m\u001b[43mBaseModel\u001b[49m\u001b[43m)\u001b[49m:\n\u001b[1;32m     77\u001b[0m     python_type \u001b[38;5;241m=\u001b[39m dtype\n\u001b[1;32m     78\u001b[0m \u001b[38;5;28;01melse\u001b[39;00m:\n\u001b[1;32m     79\u001b[0m     \u001b[38;5;66;03m# does this need a warning?\u001b[39;00m\n",
      "File \u001b[0;32m<frozen abc>:123\u001b[0m, in \u001b[0;36m__subclasscheck__\u001b[0;34m(cls, subclass)\u001b[0m\n",
      "\u001b[0;31mTypeError\u001b[0m: issubclass() arg 1 must be a class"
     ]
    }
   ],
   "source": [
    "t.__get_pydantic_core_schema__(t, None)"
   ]
  },
  {
   "cell_type": "code",
   "execution_count": 326,
   "id": "d131d835-8001-40fa-a3d8-efe5a9c2baad",
   "metadata": {},
   "outputs": [],
   "source": [
    "class Length[DType](pint.Quantity):\n",
    "    @classmethod\n",
    "    def __get_pydantic_core_schema__(\n",
    "        cls,\n",
    "        _source_type: Any,\n",
    "        _handler: GetCoreSchemaHandler,\n",
    "    ) -> core_schema.CoreSchema:\n",
    "        (dtype, ) = get_args(_source_type)\n",
    "        magnitude_schema = get_schema(dtype)\n",
    "        reference = 1 * ureg.meter\n",
    "        units = str(reference.to_base_units().units)\n",
    "        validate_function = numpydantic.schema.get_validate_interface(Any, dtype)\n",
    "        target_type = get_basic_type(dtype)\n",
    "        \n",
    "        def validator(v: Any, info: core_schema.ValidationInfo) -> pint.Quantity:\n",
    "            if isinstance(v, pint.Quantity):\n",
    "                pass\n",
    "            elif isinstance(v, Sequence):\n",
    "                magnitude, unit = v\n",
    "                # Turn into Quantity: magnitude * unit\n",
    "                v = magnitude * ureg(unit)\n",
    "            else:\n",
    "                raise ValueError(f\"Don't know how to interpret type {type(v)}.\")\n",
    "            # Check dimension\n",
    "            if not v.check(reference.dimensionality):\n",
    "                raise DimensionError(f\"Expected dimensionality {reference.dimensionality}, got quantity {v}.\")\n",
    "            try:\n",
    "                # First, try as-is\n",
    "                validate_function(v.magnitude)\n",
    "            except Exception:\n",
    "                # See if we can go from int to float, for example\n",
    "                if np.can_cast(type(v.magnitude), target_type):\n",
    "                    v = target_type(v.magnitude) * v.units\n",
    "                    validate_function(v.magnitude)\n",
    "                else:\n",
    "                    raise\n",
    "            # Return target type\n",
    "            return v\n",
    "        \n",
    "        json_schema = core_schema.tuple_positional_schema(items_schema=[\n",
    "            magnitude_schema,\n",
    "            core_schema.literal_schema([units])\n",
    "        ])\n",
    "        return core_schema.json_or_python_schema(\n",
    "            json_schema=json_schema,\n",
    "            python_schema=core_schema.with_info_plain_validator_function(validator),\n",
    "            serialization=core_schema.plain_serializer_function_ser_schema(\n",
    "                to_tuple\n",
    "            ),\n",
    "        )\n",
    "\n",
    "class LengthArray[Shape, DType](pint.Quantity):\n",
    "    @classmethod\n",
    "    def __get_pydantic_core_schema__(\n",
    "        cls,\n",
    "        _source_type: Any,\n",
    "        _handler: GetCoreSchemaHandler,\n",
    "    ) -> core_schema.CoreSchema:\n",
    "        shape, dtype = get_args(_source_type)\n",
    "        numpydantic_type = numpydantic.NDArray[shape, dtype]\n",
    "        reference = 1 * ureg.meter\n",
    "        units = str(reference.to_base_units().units)\n",
    "        validate_function = numpydantic.schema.get_validate_interface(shape, dtype)\n",
    "        target_type = get_basic_type(dtype)\n",
    "\n",
    "        magnitude_schema = numpydantic_type.__get_pydantic_core_schema__(\n",
    "            _source_type=numpydantic_type,\n",
    "            _handler=_handler\n",
    "        )\n",
    "        \n",
    "        def validator(v: Any, info: core_schema.ValidationInfo) -> pint.Quantity:\n",
    "            if isinstance(v, pint.Quantity):\n",
    "                pass\n",
    "            elif isinstance(v, Sequence):\n",
    "                magnitude, unit = v\n",
    "                # Turn into Quantity: magnitude * unit\n",
    "                v = np.asarray(magnitude) * ureg(unit)\n",
    "            else:\n",
    "                raise ValueError(f\"Don't know how to interpret type {type(v)}.\")\n",
    "            # Check dimension\n",
    "            if not v.check(reference.dimensionality):\n",
    "                raise DimensionError(f\"Expected dimensionality {reference.dimensionality}, got quantity {v}.\")\n",
    "            try:\n",
    "                # First, try as-is\n",
    "                validate_function(v.magnitude)\n",
    "            except Exception:\n",
    "                # See if we can go from int to float, for example\n",
    "                if np.can_cast(v.magnitude, target_type):\n",
    "                    v = v.magnitude.astype(target_type) * v.units\n",
    "                    validate_function(v.magnitude)\n",
    "                else:\n",
    "                    raise\n",
    "            # Return target type\n",
    "            return v\n",
    "        \n",
    "        json_schema = core_schema.tuple_positional_schema(items_schema=[\n",
    "            magnitude_schema['json_schema'],\n",
    "            core_schema.literal_schema([units])\n",
    "        ])\n",
    "\n",
    "        serializer = functools.partial(to_array_tuple, array_serializer=magnitude_schema['serialization']['function'])\n",
    "        return core_schema.json_or_python_schema(\n",
    "            json_schema=json_schema,\n",
    "            python_schema=core_schema.with_info_plain_validator_function(validator),\n",
    "            serialization=core_schema.plain_serializer_function_ser_schema(\n",
    "                function=serializer,\n",
    "                info_arg=True,\n",
    "            ),\n",
    "        )\n"
   ]
  },
  {
   "cell_type": "code",
   "execution_count": 327,
   "id": "316c607e-cc06-437f-8bc3-4c8b326516c0",
   "metadata": {},
   "outputs": [
    {
     "name": "stdout",
     "output_type": "stream",
     "text": [
      "dummy 23 2\n"
     ]
    },
    {
     "data": {
      "text/plain": [
       "(None, 'meter')"
      ]
     },
     "execution_count": 327,
     "metadata": {},
     "output_type": "execute_result"
    }
   ],
   "source": [
    "functools.partial(to_array_tuple, array_serializer=dummy_serializer)(pint.Quantity(23, 'm'), 2)"
   ]
  },
  {
   "cell_type": "code",
   "execution_count": 344,
   "id": "10a4bdd1-1d2a-46be-a6d9-15de74735cd6",
   "metadata": {},
   "outputs": [
    {
     "ename": "TypeError",
     "evalue": "Cannot interpret 'ForwardRef('float32')' as a data type",
     "output_type": "error",
     "traceback": [
      "\u001b[0;31m---------------------------------------------------------------------------\u001b[0m",
      "\u001b[0;31mTypeError\u001b[0m                                 Traceback (most recent call last)",
      "Cell \u001b[0;32mIn[344], line 1\u001b[0m\n\u001b[0;32m----> 1\u001b[0m \u001b[38;5;28;43;01mclass\u001b[39;49;00m\u001b[43m \u001b[49m\u001b[38;5;21;43;01mTestSchema\u001b[39;49;00m\u001b[43m(\u001b[49m\u001b[43mBaseModel\u001b[49m\u001b[43m)\u001b[49m\u001b[43m:\u001b[49m\n\u001b[1;32m      2\u001b[0m \u001b[43m    \u001b[49m\u001b[43ml\u001b[49m\u001b[43m:\u001b[49m\u001b[43m \u001b[49m\u001b[43mLengthArray\u001b[49m\u001b[43m[\u001b[49m\u001b[43mnumpydantic\u001b[49m\u001b[38;5;241;43m.\u001b[39;49m\u001b[43mShape\u001b[49m\u001b[43m[\u001b[49m\u001b[38;5;124;43m'\u001b[39;49m\u001b[38;5;124;43m* y, 2 x\u001b[39;49m\u001b[38;5;124;43m'\u001b[39;49m\u001b[43m]\u001b[49m\u001b[43m,\u001b[49m\u001b[43m \u001b[49m\u001b[38;5;124;43m'\u001b[39;49m\u001b[38;5;124;43mfloat32\u001b[39;49m\u001b[38;5;124;43m'\u001b[39;49m\u001b[43m]\u001b[49m\n\u001b[1;32m      3\u001b[0m \u001b[43m    \u001b[49m\u001b[43mm\u001b[49m\u001b[43m:\u001b[49m\u001b[43m \u001b[49m\u001b[43mLength\u001b[49m\u001b[43m[\u001b[49m\u001b[38;5;28;43mcomplex\u001b[39;49m\u001b[43m]\u001b[49m\n",
      "File \u001b[0;32m~/miniconda3/envs/ltschema312/lib/python3.12/site-packages/pydantic/_internal/_model_construction.py:224\u001b[0m, in \u001b[0;36mModelMetaclass.__new__\u001b[0;34m(mcs, cls_name, bases, namespace, __pydantic_generic_metadata__, __pydantic_reset_parent_namespace__, _create_model_module, **kwargs)\u001b[0m\n\u001b[1;32m    221\u001b[0m \u001b[38;5;28;01mif\u001b[39;00m config_wrapper\u001b[38;5;241m.\u001b[39mfrozen \u001b[38;5;129;01mand\u001b[39;00m \u001b[38;5;124m'\u001b[39m\u001b[38;5;124m__hash__\u001b[39m\u001b[38;5;124m'\u001b[39m \u001b[38;5;129;01mnot\u001b[39;00m \u001b[38;5;129;01min\u001b[39;00m namespace:\n\u001b[1;32m    222\u001b[0m     set_default_hash_func(\u001b[38;5;28mcls\u001b[39m, bases)\n\u001b[0;32m--> 224\u001b[0m \u001b[43mcomplete_model_class\u001b[49m\u001b[43m(\u001b[49m\n\u001b[1;32m    225\u001b[0m \u001b[43m    \u001b[49m\u001b[38;5;28;43mcls\u001b[39;49m\u001b[43m,\u001b[49m\n\u001b[1;32m    226\u001b[0m \u001b[43m    \u001b[49m\u001b[43mcls_name\u001b[49m\u001b[43m,\u001b[49m\n\u001b[1;32m    227\u001b[0m \u001b[43m    \u001b[49m\u001b[43mconfig_wrapper\u001b[49m\u001b[43m,\u001b[49m\n\u001b[1;32m    228\u001b[0m \u001b[43m    \u001b[49m\u001b[43mraise_errors\u001b[49m\u001b[38;5;241;43m=\u001b[39;49m\u001b[38;5;28;43;01mFalse\u001b[39;49;00m\u001b[43m,\u001b[49m\n\u001b[1;32m    229\u001b[0m \u001b[43m    \u001b[49m\u001b[43mtypes_namespace\u001b[49m\u001b[38;5;241;43m=\u001b[39;49m\u001b[43mtypes_namespace\u001b[49m\u001b[43m,\u001b[49m\n\u001b[1;32m    230\u001b[0m \u001b[43m    \u001b[49m\u001b[43mcreate_model_module\u001b[49m\u001b[38;5;241;43m=\u001b[39;49m\u001b[43m_create_model_module\u001b[49m\u001b[43m,\u001b[49m\n\u001b[1;32m    231\u001b[0m \u001b[43m\u001b[49m\u001b[43m)\u001b[49m\n\u001b[1;32m    233\u001b[0m \u001b[38;5;66;03m# If this is placed before the complete_model_class call above,\u001b[39;00m\n\u001b[1;32m    234\u001b[0m \u001b[38;5;66;03m# the generic computed fields return type is set to PydanticUndefined\u001b[39;00m\n\u001b[1;32m    235\u001b[0m \u001b[38;5;28mcls\u001b[39m\u001b[38;5;241m.\u001b[39mmodel_computed_fields \u001b[38;5;241m=\u001b[39m {k: v\u001b[38;5;241m.\u001b[39minfo \u001b[38;5;28;01mfor\u001b[39;00m k, v \u001b[38;5;129;01min\u001b[39;00m \u001b[38;5;28mcls\u001b[39m\u001b[38;5;241m.\u001b[39m__pydantic_decorators__\u001b[38;5;241m.\u001b[39mcomputed_fields\u001b[38;5;241m.\u001b[39mitems()}\n",
      "File \u001b[0;32m~/miniconda3/envs/ltschema312/lib/python3.12/site-packages/pydantic/_internal/_model_construction.py:573\u001b[0m, in \u001b[0;36mcomplete_model_class\u001b[0;34m(cls, cls_name, config_wrapper, raise_errors, types_namespace, create_model_module)\u001b[0m\n\u001b[1;32m    570\u001b[0m     \u001b[38;5;28;01mreturn\u001b[39;00m \u001b[38;5;28;01mFalse\u001b[39;00m\n\u001b[1;32m    572\u001b[0m \u001b[38;5;28;01mtry\u001b[39;00m:\n\u001b[0;32m--> 573\u001b[0m     schema \u001b[38;5;241m=\u001b[39m \u001b[38;5;28;43mcls\u001b[39;49m\u001b[38;5;241;43m.\u001b[39;49m\u001b[43m__get_pydantic_core_schema__\u001b[49m\u001b[43m(\u001b[49m\u001b[38;5;28;43mcls\u001b[39;49m\u001b[43m,\u001b[49m\u001b[43m \u001b[49m\u001b[43mhandler\u001b[49m\u001b[43m)\u001b[49m\n\u001b[1;32m    574\u001b[0m \u001b[38;5;28;01mexcept\u001b[39;00m PydanticUndefinedAnnotation \u001b[38;5;28;01mas\u001b[39;00m e:\n\u001b[1;32m    575\u001b[0m     \u001b[38;5;28;01mif\u001b[39;00m raise_errors:\n",
      "File \u001b[0;32m~/miniconda3/envs/ltschema312/lib/python3.12/site-packages/pydantic/main.py:668\u001b[0m, in \u001b[0;36mBaseModel.__get_pydantic_core_schema__\u001b[0;34m(cls, source, handler)\u001b[0m\n\u001b[1;32m    665\u001b[0m     \u001b[38;5;28;01mif\u001b[39;00m \u001b[38;5;129;01mnot\u001b[39;00m \u001b[38;5;28mcls\u001b[39m\u001b[38;5;241m.\u001b[39m__pydantic_generic_metadata__[\u001b[38;5;124m'\u001b[39m\u001b[38;5;124morigin\u001b[39m\u001b[38;5;124m'\u001b[39m]:\n\u001b[1;32m    666\u001b[0m         \u001b[38;5;28;01mreturn\u001b[39;00m \u001b[38;5;28mcls\u001b[39m\u001b[38;5;241m.\u001b[39m__pydantic_core_schema__\n\u001b[0;32m--> 668\u001b[0m \u001b[38;5;28;01mreturn\u001b[39;00m \u001b[43mhandler\u001b[49m\u001b[43m(\u001b[49m\u001b[43msource\u001b[49m\u001b[43m)\u001b[49m\n",
      "File \u001b[0;32m~/miniconda3/envs/ltschema312/lib/python3.12/site-packages/pydantic/_internal/_schema_generation_shared.py:83\u001b[0m, in \u001b[0;36mCallbackGetCoreSchemaHandler.__call__\u001b[0;34m(self, source_type)\u001b[0m\n\u001b[1;32m     82\u001b[0m \u001b[38;5;28;01mdef\u001b[39;00m \u001b[38;5;21m__call__\u001b[39m(\u001b[38;5;28mself\u001b[39m, source_type: Any, \u001b[38;5;241m/\u001b[39m) \u001b[38;5;241m-\u001b[39m\u001b[38;5;241m>\u001b[39m core_schema\u001b[38;5;241m.\u001b[39mCoreSchema:\n\u001b[0;32m---> 83\u001b[0m     schema \u001b[38;5;241m=\u001b[39m \u001b[38;5;28;43mself\u001b[39;49m\u001b[38;5;241;43m.\u001b[39;49m\u001b[43m_handler\u001b[49m\u001b[43m(\u001b[49m\u001b[43msource_type\u001b[49m\u001b[43m)\u001b[49m\n\u001b[1;32m     84\u001b[0m     ref \u001b[38;5;241m=\u001b[39m schema\u001b[38;5;241m.\u001b[39mget(\u001b[38;5;124m'\u001b[39m\u001b[38;5;124mref\u001b[39m\u001b[38;5;124m'\u001b[39m)\n\u001b[1;32m     85\u001b[0m     \u001b[38;5;28;01mif\u001b[39;00m \u001b[38;5;28mself\u001b[39m\u001b[38;5;241m.\u001b[39m_ref_mode \u001b[38;5;241m==\u001b[39m \u001b[38;5;124m'\u001b[39m\u001b[38;5;124mto-def\u001b[39m\u001b[38;5;124m'\u001b[39m:\n",
      "File \u001b[0;32m~/miniconda3/envs/ltschema312/lib/python3.12/site-packages/pydantic/_internal/_generate_schema.py:655\u001b[0m, in \u001b[0;36mGenerateSchema.generate_schema\u001b[0;34m(self, obj, from_dunder_get_core_schema)\u001b[0m\n\u001b[1;32m    652\u001b[0m         schema \u001b[38;5;241m=\u001b[39m from_property\n\u001b[1;32m    654\u001b[0m \u001b[38;5;28;01mif\u001b[39;00m schema \u001b[38;5;129;01mis\u001b[39;00m \u001b[38;5;28;01mNone\u001b[39;00m:\n\u001b[0;32m--> 655\u001b[0m     schema \u001b[38;5;241m=\u001b[39m \u001b[38;5;28;43mself\u001b[39;49m\u001b[38;5;241;43m.\u001b[39;49m\u001b[43m_generate_schema_inner\u001b[49m\u001b[43m(\u001b[49m\u001b[43mobj\u001b[49m\u001b[43m)\u001b[49m\n\u001b[1;32m    657\u001b[0m metadata_js_function \u001b[38;5;241m=\u001b[39m _extract_get_pydantic_json_schema(obj, schema)\n\u001b[1;32m    658\u001b[0m \u001b[38;5;28;01mif\u001b[39;00m metadata_js_function \u001b[38;5;129;01mis\u001b[39;00m \u001b[38;5;129;01mnot\u001b[39;00m \u001b[38;5;28;01mNone\u001b[39;00m:\n",
      "File \u001b[0;32m~/miniconda3/envs/ltschema312/lib/python3.12/site-packages/pydantic/_internal/_generate_schema.py:924\u001b[0m, in \u001b[0;36mGenerateSchema._generate_schema_inner\u001b[0;34m(self, obj)\u001b[0m\n\u001b[1;32m    922\u001b[0m \u001b[38;5;28;01mif\u001b[39;00m lenient_issubclass(obj, BaseModel):\n\u001b[1;32m    923\u001b[0m     \u001b[38;5;28;01mwith\u001b[39;00m \u001b[38;5;28mself\u001b[39m\u001b[38;5;241m.\u001b[39mmodel_type_stack\u001b[38;5;241m.\u001b[39mpush(obj):\n\u001b[0;32m--> 924\u001b[0m         \u001b[38;5;28;01mreturn\u001b[39;00m \u001b[38;5;28;43mself\u001b[39;49m\u001b[38;5;241;43m.\u001b[39;49m\u001b[43m_model_schema\u001b[49m\u001b[43m(\u001b[49m\u001b[43mobj\u001b[49m\u001b[43m)\u001b[49m\n\u001b[1;32m    926\u001b[0m \u001b[38;5;28;01mif\u001b[39;00m \u001b[38;5;28misinstance\u001b[39m(obj, PydanticRecursiveRef):\n\u001b[1;32m    927\u001b[0m     \u001b[38;5;28;01mreturn\u001b[39;00m core_schema\u001b[38;5;241m.\u001b[39mdefinition_reference_schema(schema_ref\u001b[38;5;241m=\u001b[39mobj\u001b[38;5;241m.\u001b[39mtype_ref)\n",
      "File \u001b[0;32m~/miniconda3/envs/ltschema312/lib/python3.12/site-packages/pydantic/_internal/_generate_schema.py:739\u001b[0m, in \u001b[0;36mGenerateSchema._model_schema\u001b[0;34m(self, cls)\u001b[0m\n\u001b[1;32m    727\u001b[0m     model_schema \u001b[38;5;241m=\u001b[39m core_schema\u001b[38;5;241m.\u001b[39mmodel_schema(\n\u001b[1;32m    728\u001b[0m         \u001b[38;5;28mcls\u001b[39m,\n\u001b[1;32m    729\u001b[0m         inner_schema,\n\u001b[0;32m   (...)\u001b[0m\n\u001b[1;32m    735\u001b[0m         metadata\u001b[38;5;241m=\u001b[39mmetadata,\n\u001b[1;32m    736\u001b[0m     )\n\u001b[1;32m    737\u001b[0m \u001b[38;5;28;01melse\u001b[39;00m:\n\u001b[1;32m    738\u001b[0m     fields_schema: core_schema\u001b[38;5;241m.\u001b[39mCoreSchema \u001b[38;5;241m=\u001b[39m core_schema\u001b[38;5;241m.\u001b[39mmodel_fields_schema(\n\u001b[0;32m--> 739\u001b[0m         {k: \u001b[38;5;28;43mself\u001b[39;49m\u001b[38;5;241;43m.\u001b[39;49m\u001b[43m_generate_md_field_schema\u001b[49m\u001b[43m(\u001b[49m\u001b[43mk\u001b[49m\u001b[43m,\u001b[49m\u001b[43m \u001b[49m\u001b[43mv\u001b[49m\u001b[43m,\u001b[49m\u001b[43m \u001b[49m\u001b[43mdecorators\u001b[49m\u001b[43m)\u001b[49m \u001b[38;5;28;01mfor\u001b[39;00m k, v \u001b[38;5;129;01min\u001b[39;00m fields\u001b[38;5;241m.\u001b[39mitems()},\n\u001b[1;32m    740\u001b[0m         computed_fields\u001b[38;5;241m=\u001b[39m[\n\u001b[1;32m    741\u001b[0m             \u001b[38;5;28mself\u001b[39m\u001b[38;5;241m.\u001b[39m_computed_field_schema(d, decorators\u001b[38;5;241m.\u001b[39mfield_serializers)\n\u001b[1;32m    742\u001b[0m             \u001b[38;5;28;01mfor\u001b[39;00m d \u001b[38;5;129;01min\u001b[39;00m computed_fields\u001b[38;5;241m.\u001b[39mvalues()\n\u001b[1;32m    743\u001b[0m         ],\n\u001b[1;32m    744\u001b[0m         extras_schema\u001b[38;5;241m=\u001b[39mextras_schema,\n\u001b[1;32m    745\u001b[0m         model_name\u001b[38;5;241m=\u001b[39m\u001b[38;5;28mcls\u001b[39m\u001b[38;5;241m.\u001b[39m\u001b[38;5;18m__name__\u001b[39m,\n\u001b[1;32m    746\u001b[0m     )\n\u001b[1;32m    747\u001b[0m     inner_schema \u001b[38;5;241m=\u001b[39m apply_validators(fields_schema, decorators\u001b[38;5;241m.\u001b[39mroot_validators\u001b[38;5;241m.\u001b[39mvalues(), \u001b[38;5;28;01mNone\u001b[39;00m)\n\u001b[1;32m    748\u001b[0m     new_inner_schema \u001b[38;5;241m=\u001b[39m define_expected_missing_refs(inner_schema, recursively_defined_type_refs())\n",
      "File \u001b[0;32m~/miniconda3/envs/ltschema312/lib/python3.12/site-packages/pydantic/_internal/_generate_schema.py:1115\u001b[0m, in \u001b[0;36mGenerateSchema._generate_md_field_schema\u001b[0;34m(self, name, field_info, decorators)\u001b[0m\n\u001b[1;32m   1108\u001b[0m \u001b[38;5;28;01mdef\u001b[39;00m \u001b[38;5;21m_generate_md_field_schema\u001b[39m(\n\u001b[1;32m   1109\u001b[0m     \u001b[38;5;28mself\u001b[39m,\n\u001b[1;32m   1110\u001b[0m     name: \u001b[38;5;28mstr\u001b[39m,\n\u001b[1;32m   1111\u001b[0m     field_info: FieldInfo,\n\u001b[1;32m   1112\u001b[0m     decorators: DecoratorInfos,\n\u001b[1;32m   1113\u001b[0m ) \u001b[38;5;241m-\u001b[39m\u001b[38;5;241m>\u001b[39m core_schema\u001b[38;5;241m.\u001b[39mModelField:\n\u001b[1;32m   1114\u001b[0m \u001b[38;5;250m    \u001b[39m\u001b[38;5;124;03m\"\"\"Prepare a ModelField to represent a model field.\"\"\"\u001b[39;00m\n\u001b[0;32m-> 1115\u001b[0m     common_field \u001b[38;5;241m=\u001b[39m \u001b[38;5;28;43mself\u001b[39;49m\u001b[38;5;241;43m.\u001b[39;49m\u001b[43m_common_field_schema\u001b[49m\u001b[43m(\u001b[49m\u001b[43mname\u001b[49m\u001b[43m,\u001b[49m\u001b[43m \u001b[49m\u001b[43mfield_info\u001b[49m\u001b[43m,\u001b[49m\u001b[43m \u001b[49m\u001b[43mdecorators\u001b[49m\u001b[43m)\u001b[49m\n\u001b[1;32m   1116\u001b[0m     \u001b[38;5;28;01mreturn\u001b[39;00m core_schema\u001b[38;5;241m.\u001b[39mmodel_field(\n\u001b[1;32m   1117\u001b[0m         common_field[\u001b[38;5;124m'\u001b[39m\u001b[38;5;124mschema\u001b[39m\u001b[38;5;124m'\u001b[39m],\n\u001b[1;32m   1118\u001b[0m         serialization_exclude\u001b[38;5;241m=\u001b[39mcommon_field[\u001b[38;5;124m'\u001b[39m\u001b[38;5;124mserialization_exclude\u001b[39m\u001b[38;5;124m'\u001b[39m],\n\u001b[0;32m   (...)\u001b[0m\n\u001b[1;32m   1122\u001b[0m         metadata\u001b[38;5;241m=\u001b[39mcommon_field[\u001b[38;5;124m'\u001b[39m\u001b[38;5;124mmetadata\u001b[39m\u001b[38;5;124m'\u001b[39m],\n\u001b[1;32m   1123\u001b[0m     )\n",
      "File \u001b[0;32m~/miniconda3/envs/ltschema312/lib/python3.12/site-packages/pydantic/_internal/_generate_schema.py:1308\u001b[0m, in \u001b[0;36mGenerateSchema._common_field_schema\u001b[0;34m(self, name, field_info, decorators)\u001b[0m\n\u001b[1;32m   1304\u001b[0m         schema \u001b[38;5;241m=\u001b[39m \u001b[38;5;28mself\u001b[39m\u001b[38;5;241m.\u001b[39m_apply_annotations(\n\u001b[1;32m   1305\u001b[0m             source_type, annotations \u001b[38;5;241m+\u001b[39m validators_from_decorators, transform_inner_schema\u001b[38;5;241m=\u001b[39mset_discriminator\n\u001b[1;32m   1306\u001b[0m         )\n\u001b[1;32m   1307\u001b[0m     \u001b[38;5;28;01melse\u001b[39;00m:\n\u001b[0;32m-> 1308\u001b[0m         schema \u001b[38;5;241m=\u001b[39m \u001b[38;5;28;43mself\u001b[39;49m\u001b[38;5;241;43m.\u001b[39;49m\u001b[43m_apply_annotations\u001b[49m\u001b[43m(\u001b[49m\n\u001b[1;32m   1309\u001b[0m \u001b[43m            \u001b[49m\u001b[43msource_type\u001b[49m\u001b[43m,\u001b[49m\n\u001b[1;32m   1310\u001b[0m \u001b[43m            \u001b[49m\u001b[43mannotations\u001b[49m\u001b[43m \u001b[49m\u001b[38;5;241;43m+\u001b[39;49m\u001b[43m \u001b[49m\u001b[43mvalidators_from_decorators\u001b[49m\u001b[43m,\u001b[49m\n\u001b[1;32m   1311\u001b[0m \u001b[43m        \u001b[49m\u001b[43m)\u001b[49m\n\u001b[1;32m   1313\u001b[0m \u001b[38;5;66;03m# This V1 compatibility shim should eventually be removed\u001b[39;00m\n\u001b[1;32m   1314\u001b[0m \u001b[38;5;66;03m# push down any `each_item=True` validators\u001b[39;00m\n\u001b[1;32m   1315\u001b[0m \u001b[38;5;66;03m# note that this won't work for any Annotated types that get wrapped by a function validator\u001b[39;00m\n\u001b[1;32m   1316\u001b[0m \u001b[38;5;66;03m# but that's okay because that didn't exist in V1\u001b[39;00m\n\u001b[1;32m   1317\u001b[0m this_field_validators \u001b[38;5;241m=\u001b[39m filter_field_decorator_info_by_field(decorators\u001b[38;5;241m.\u001b[39mvalidators\u001b[38;5;241m.\u001b[39mvalues(), name)\n",
      "File \u001b[0;32m~/miniconda3/envs/ltschema312/lib/python3.12/site-packages/pydantic/_internal/_generate_schema.py:2107\u001b[0m, in \u001b[0;36mGenerateSchema._apply_annotations\u001b[0;34m(self, source_type, annotations, transform_inner_schema)\u001b[0m\n\u001b[1;32m   2102\u001b[0m         \u001b[38;5;28;01mcontinue\u001b[39;00m\n\u001b[1;32m   2103\u001b[0m     get_inner_schema \u001b[38;5;241m=\u001b[39m \u001b[38;5;28mself\u001b[39m\u001b[38;5;241m.\u001b[39m_get_wrapped_inner_schema(\n\u001b[1;32m   2104\u001b[0m         get_inner_schema, annotation, pydantic_js_annotation_functions\n\u001b[1;32m   2105\u001b[0m     )\n\u001b[0;32m-> 2107\u001b[0m schema \u001b[38;5;241m=\u001b[39m \u001b[43mget_inner_schema\u001b[49m\u001b[43m(\u001b[49m\u001b[43msource_type\u001b[49m\u001b[43m)\u001b[49m\n\u001b[1;32m   2108\u001b[0m \u001b[38;5;28;01mif\u001b[39;00m pydantic_js_annotation_functions:\n\u001b[1;32m   2109\u001b[0m     metadata \u001b[38;5;241m=\u001b[39m CoreMetadataHandler(schema)\u001b[38;5;241m.\u001b[39mmetadata\n",
      "File \u001b[0;32m~/miniconda3/envs/ltschema312/lib/python3.12/site-packages/pydantic/_internal/_schema_generation_shared.py:83\u001b[0m, in \u001b[0;36mCallbackGetCoreSchemaHandler.__call__\u001b[0;34m(self, source_type)\u001b[0m\n\u001b[1;32m     82\u001b[0m \u001b[38;5;28;01mdef\u001b[39;00m \u001b[38;5;21m__call__\u001b[39m(\u001b[38;5;28mself\u001b[39m, source_type: Any, \u001b[38;5;241m/\u001b[39m) \u001b[38;5;241m-\u001b[39m\u001b[38;5;241m>\u001b[39m core_schema\u001b[38;5;241m.\u001b[39mCoreSchema:\n\u001b[0;32m---> 83\u001b[0m     schema \u001b[38;5;241m=\u001b[39m \u001b[38;5;28;43mself\u001b[39;49m\u001b[38;5;241;43m.\u001b[39;49m\u001b[43m_handler\u001b[49m\u001b[43m(\u001b[49m\u001b[43msource_type\u001b[49m\u001b[43m)\u001b[49m\n\u001b[1;32m     84\u001b[0m     ref \u001b[38;5;241m=\u001b[39m schema\u001b[38;5;241m.\u001b[39mget(\u001b[38;5;124m'\u001b[39m\u001b[38;5;124mref\u001b[39m\u001b[38;5;124m'\u001b[39m)\n\u001b[1;32m     85\u001b[0m     \u001b[38;5;28;01mif\u001b[39;00m \u001b[38;5;28mself\u001b[39m\u001b[38;5;241m.\u001b[39m_ref_mode \u001b[38;5;241m==\u001b[39m \u001b[38;5;124m'\u001b[39m\u001b[38;5;124mto-def\u001b[39m\u001b[38;5;124m'\u001b[39m:\n",
      "File \u001b[0;32m~/miniconda3/envs/ltschema312/lib/python3.12/site-packages/pydantic/_internal/_generate_schema.py:2088\u001b[0m, in \u001b[0;36mGenerateSchema._apply_annotations.<locals>.inner_handler\u001b[0;34m(obj)\u001b[0m\n\u001b[1;32m   2086\u001b[0m from_property \u001b[38;5;241m=\u001b[39m \u001b[38;5;28mself\u001b[39m\u001b[38;5;241m.\u001b[39m_generate_schema_from_property(obj, source_type)\n\u001b[1;32m   2087\u001b[0m \u001b[38;5;28;01mif\u001b[39;00m from_property \u001b[38;5;129;01mis\u001b[39;00m \u001b[38;5;28;01mNone\u001b[39;00m:\n\u001b[0;32m-> 2088\u001b[0m     schema \u001b[38;5;241m=\u001b[39m \u001b[38;5;28;43mself\u001b[39;49m\u001b[38;5;241;43m.\u001b[39;49m\u001b[43m_generate_schema_inner\u001b[49m\u001b[43m(\u001b[49m\u001b[43mobj\u001b[49m\u001b[43m)\u001b[49m\n\u001b[1;32m   2089\u001b[0m \u001b[38;5;28;01melse\u001b[39;00m:\n\u001b[1;32m   2090\u001b[0m     schema \u001b[38;5;241m=\u001b[39m from_property\n",
      "File \u001b[0;32m~/miniconda3/envs/ltschema312/lib/python3.12/site-packages/pydantic/_internal/_generate_schema.py:929\u001b[0m, in \u001b[0;36mGenerateSchema._generate_schema_inner\u001b[0;34m(self, obj)\u001b[0m\n\u001b[1;32m    926\u001b[0m \u001b[38;5;28;01mif\u001b[39;00m \u001b[38;5;28misinstance\u001b[39m(obj, PydanticRecursiveRef):\n\u001b[1;32m    927\u001b[0m     \u001b[38;5;28;01mreturn\u001b[39;00m core_schema\u001b[38;5;241m.\u001b[39mdefinition_reference_schema(schema_ref\u001b[38;5;241m=\u001b[39mobj\u001b[38;5;241m.\u001b[39mtype_ref)\n\u001b[0;32m--> 929\u001b[0m \u001b[38;5;28;01mreturn\u001b[39;00m \u001b[38;5;28;43mself\u001b[39;49m\u001b[38;5;241;43m.\u001b[39;49m\u001b[43mmatch_type\u001b[49m\u001b[43m(\u001b[49m\u001b[43mobj\u001b[49m\u001b[43m)\u001b[49m\n",
      "File \u001b[0;32m~/miniconda3/envs/ltschema312/lib/python3.12/site-packages/pydantic/_internal/_generate_schema.py:1029\u001b[0m, in \u001b[0;36mGenerateSchema.match_type\u001b[0;34m(self, obj)\u001b[0m\n\u001b[1;32m   1027\u001b[0m origin \u001b[38;5;241m=\u001b[39m get_origin(obj)\n\u001b[1;32m   1028\u001b[0m \u001b[38;5;28;01mif\u001b[39;00m origin \u001b[38;5;129;01mis\u001b[39;00m \u001b[38;5;129;01mnot\u001b[39;00m \u001b[38;5;28;01mNone\u001b[39;00m:\n\u001b[0;32m-> 1029\u001b[0m     \u001b[38;5;28;01mreturn\u001b[39;00m \u001b[38;5;28;43mself\u001b[39;49m\u001b[38;5;241;43m.\u001b[39;49m\u001b[43m_match_generic_type\u001b[49m\u001b[43m(\u001b[49m\u001b[43mobj\u001b[49m\u001b[43m,\u001b[49m\u001b[43m \u001b[49m\u001b[43morigin\u001b[49m\u001b[43m)\u001b[49m\n\u001b[1;32m   1031\u001b[0m res \u001b[38;5;241m=\u001b[39m \u001b[38;5;28mself\u001b[39m\u001b[38;5;241m.\u001b[39m_get_prepare_pydantic_annotations_for_known_type(obj, ())\n\u001b[1;32m   1032\u001b[0m \u001b[38;5;28;01mif\u001b[39;00m res \u001b[38;5;129;01mis\u001b[39;00m \u001b[38;5;129;01mnot\u001b[39;00m \u001b[38;5;28;01mNone\u001b[39;00m:\n",
      "File \u001b[0;32m~/miniconda3/envs/ltschema312/lib/python3.12/site-packages/pydantic/_internal/_generate_schema.py:1053\u001b[0m, in \u001b[0;36mGenerateSchema._match_generic_type\u001b[0;34m(self, obj, origin)\u001b[0m\n\u001b[1;32m   1050\u001b[0m \u001b[38;5;28;01mif\u001b[39;00m _typing_extra\u001b[38;5;241m.\u001b[39mis_namedtuple(origin):\n\u001b[1;32m   1051\u001b[0m     \u001b[38;5;28;01mreturn\u001b[39;00m \u001b[38;5;28mself\u001b[39m\u001b[38;5;241m.\u001b[39m_namedtuple_schema(obj, origin)\n\u001b[0;32m-> 1053\u001b[0m from_property \u001b[38;5;241m=\u001b[39m \u001b[38;5;28;43mself\u001b[39;49m\u001b[38;5;241;43m.\u001b[39;49m\u001b[43m_generate_schema_from_property\u001b[49m\u001b[43m(\u001b[49m\u001b[43morigin\u001b[49m\u001b[43m,\u001b[49m\u001b[43m \u001b[49m\u001b[43mobj\u001b[49m\u001b[43m)\u001b[49m\n\u001b[1;32m   1054\u001b[0m \u001b[38;5;28;01mif\u001b[39;00m from_property \u001b[38;5;129;01mis\u001b[39;00m \u001b[38;5;129;01mnot\u001b[39;00m \u001b[38;5;28;01mNone\u001b[39;00m:\n\u001b[1;32m   1055\u001b[0m     \u001b[38;5;28;01mreturn\u001b[39;00m from_property\n",
      "File \u001b[0;32m~/miniconda3/envs/ltschema312/lib/python3.12/site-packages/pydantic/_internal/_generate_schema.py:821\u001b[0m, in \u001b[0;36mGenerateSchema._generate_schema_from_property\u001b[0;34m(self, obj, source)\u001b[0m\n\u001b[1;32m    818\u001b[0m schema: CoreSchema\n\u001b[1;32m    820\u001b[0m \u001b[38;5;28;01mif\u001b[39;00m (get_schema \u001b[38;5;241m:=\u001b[39m \u001b[38;5;28mgetattr\u001b[39m(obj, \u001b[38;5;124m'\u001b[39m\u001b[38;5;124m__get_pydantic_core_schema__\u001b[39m\u001b[38;5;124m'\u001b[39m, \u001b[38;5;28;01mNone\u001b[39;00m)) \u001b[38;5;129;01mis\u001b[39;00m \u001b[38;5;129;01mnot\u001b[39;00m \u001b[38;5;28;01mNone\u001b[39;00m:\n\u001b[0;32m--> 821\u001b[0m     schema \u001b[38;5;241m=\u001b[39m \u001b[43mget_schema\u001b[49m\u001b[43m(\u001b[49m\n\u001b[1;32m    822\u001b[0m \u001b[43m        \u001b[49m\u001b[43msource\u001b[49m\u001b[43m,\u001b[49m\u001b[43m \u001b[49m\u001b[43mCallbackGetCoreSchemaHandler\u001b[49m\u001b[43m(\u001b[49m\u001b[38;5;28;43mself\u001b[39;49m\u001b[38;5;241;43m.\u001b[39;49m\u001b[43m_generate_schema_inner\u001b[49m\u001b[43m,\u001b[49m\u001b[43m \u001b[49m\u001b[38;5;28;43mself\u001b[39;49m\u001b[43m,\u001b[49m\u001b[43m \u001b[49m\u001b[43mref_mode\u001b[49m\u001b[38;5;241;43m=\u001b[39;49m\u001b[43mref_mode\u001b[49m\u001b[43m)\u001b[49m\n\u001b[1;32m    823\u001b[0m \u001b[43m    \u001b[49m\u001b[43m)\u001b[49m\n\u001b[1;32m    824\u001b[0m \u001b[38;5;28;01melif\u001b[39;00m (\n\u001b[1;32m    825\u001b[0m     (existing_schema \u001b[38;5;241m:=\u001b[39m \u001b[38;5;28mgetattr\u001b[39m(obj, \u001b[38;5;124m'\u001b[39m\u001b[38;5;124m__pydantic_core_schema__\u001b[39m\u001b[38;5;124m'\u001b[39m, \u001b[38;5;28;01mNone\u001b[39;00m)) \u001b[38;5;129;01mis\u001b[39;00m \u001b[38;5;129;01mnot\u001b[39;00m \u001b[38;5;28;01mNone\u001b[39;00m\n\u001b[1;32m    826\u001b[0m     \u001b[38;5;129;01mand\u001b[39;00m \u001b[38;5;129;01mnot\u001b[39;00m \u001b[38;5;28misinstance\u001b[39m(existing_schema, MockCoreSchema)\n\u001b[1;32m    827\u001b[0m     \u001b[38;5;129;01mand\u001b[39;00m existing_schema\u001b[38;5;241m.\u001b[39mget(\u001b[38;5;124m'\u001b[39m\u001b[38;5;124mcls\u001b[39m\u001b[38;5;124m'\u001b[39m, \u001b[38;5;28;01mNone\u001b[39;00m) \u001b[38;5;241m==\u001b[39m obj\n\u001b[1;32m    828\u001b[0m ):\n\u001b[1;32m    829\u001b[0m     schema \u001b[38;5;241m=\u001b[39m existing_schema\n",
      "Cell \u001b[0;32mIn[326], line 72\u001b[0m, in \u001b[0;36mLengthArray.__get_pydantic_core_schema__\u001b[0;34m(cls, _source_type, _handler)\u001b[0m\n\u001b[1;32m     70\u001b[0m units \u001b[38;5;241m=\u001b[39m \u001b[38;5;28mstr\u001b[39m(reference\u001b[38;5;241m.\u001b[39mto_base_units()\u001b[38;5;241m.\u001b[39munits)\n\u001b[1;32m     71\u001b[0m validate_function \u001b[38;5;241m=\u001b[39m numpydantic\u001b[38;5;241m.\u001b[39mschema\u001b[38;5;241m.\u001b[39mget_validate_interface(shape, dtype)\n\u001b[0;32m---> 72\u001b[0m target_type \u001b[38;5;241m=\u001b[39m \u001b[43mget_basic_type\u001b[49m\u001b[43m(\u001b[49m\u001b[43mdtype\u001b[49m\u001b[43m)\u001b[49m\n\u001b[1;32m     74\u001b[0m magnitude_schema \u001b[38;5;241m=\u001b[39m numpydantic_type\u001b[38;5;241m.\u001b[39m__get_pydantic_core_schema__(\n\u001b[1;32m     75\u001b[0m     _source_type\u001b[38;5;241m=\u001b[39mnumpydantic_type,\n\u001b[1;32m     76\u001b[0m     _handler\u001b[38;5;241m=\u001b[39m_handler\n\u001b[1;32m     77\u001b[0m )\n\u001b[1;32m     79\u001b[0m \u001b[38;5;28;01mdef\u001b[39;00m \u001b[38;5;21mvalidator\u001b[39m(v: Any, info: core_schema\u001b[38;5;241m.\u001b[39mValidationInfo) \u001b[38;5;241m-\u001b[39m\u001b[38;5;241m>\u001b[39m pint\u001b[38;5;241m.\u001b[39mQuantity:\n",
      "Cell \u001b[0;32mIn[277], line 10\u001b[0m, in \u001b[0;36mget_basic_type\u001b[0;34m(t)\u001b[0m\n\u001b[1;32m      8\u001b[0m \u001b[38;5;28;01mif\u001b[39;00m t \u001b[38;5;129;01min\u001b[39;00m (\u001b[38;5;28mfloat\u001b[39m, \u001b[38;5;28mint\u001b[39m, \u001b[38;5;28mcomplex\u001b[39m):\n\u001b[1;32m      9\u001b[0m     \u001b[38;5;28;01mreturn\u001b[39;00m t\n\u001b[0;32m---> 10\u001b[0m dtype \u001b[38;5;241m=\u001b[39m \u001b[43mnp\u001b[49m\u001b[38;5;241;43m.\u001b[39;49m\u001b[43mdtype\u001b[49m\u001b[43m(\u001b[49m\u001b[43mt\u001b[49m\u001b[43m)\u001b[49m\n\u001b[1;32m     11\u001b[0m \u001b[38;5;28;01mreturn\u001b[39;00m numpydantic\u001b[38;5;241m.\u001b[39mmaps\u001b[38;5;241m.\u001b[39mnp_to_python[dtype\u001b[38;5;241m.\u001b[39mtype]\n",
      "\u001b[0;31mTypeError\u001b[0m: Cannot interpret 'ForwardRef('float32')' as a data type"
     ]
    }
   ],
   "source": [
    "class TestSchema(BaseModel):\n",
    "    l: LengthArray[numpydantic.Shape['* y, 2 x'], 'float32']\n",
    "    m: Length[complex]"
   ]
  },
  {
   "cell_type": "code",
   "execution_count": 338,
   "id": "4803b3c8-5340-46d7-8cfd-45290780651b",
   "metadata": {},
   "outputs": [],
   "source": [
    "t = TestSchema(m=pint.Quantity(23.3, 'cm'), l=pint.Quantity(np.array([(1, 2), (3, 4), (5, 6)]), 'km'))"
   ]
  },
  {
   "cell_type": "code",
   "execution_count": 339,
   "id": "40ce4c1f-4ce6-4db4-984f-889850b404ed",
   "metadata": {},
   "outputs": [
    {
     "data": {
      "text/plain": [
       "{'l': ([[1000.0, 2000.0], [3000.0, 4000.0], [5000.0, 6000.0]], 'meter'),\n",
       " 'm': ((0.233+0j), 'meter')}"
      ]
     },
     "execution_count": 339,
     "metadata": {},
     "output_type": "execute_result"
    }
   ],
   "source": [
    "t.model_dump()"
   ]
  },
  {
   "cell_type": "code",
   "execution_count": 340,
   "id": "2d1455af-17b6-4392-b411-8fc5264a1ec8",
   "metadata": {},
   "outputs": [
    {
     "ename": "NameError",
     "evalue": "name 'NDArray' is not defined",
     "output_type": "error",
     "traceback": [
      "\u001b[0;31m---------------------------------------------------------------------------\u001b[0m",
      "\u001b[0;31mNameError\u001b[0m                                 Traceback (most recent call last)",
      "Cell \u001b[0;32mIn[340], line 1\u001b[0m\n\u001b[0;32m----> 1\u001b[0m \u001b[38;5;28;43;01mclass\u001b[39;49;00m\u001b[43m \u001b[49m\u001b[38;5;21;43;01mNumpySchema\u001b[39;49;00m\u001b[43m(\u001b[49m\u001b[43mBaseModel\u001b[49m\u001b[43m)\u001b[49m\u001b[43m:\u001b[49m\n\u001b[1;32m      2\u001b[0m \u001b[43m    \u001b[49m\u001b[43ma\u001b[49m\u001b[43m:\u001b[49m\u001b[43m \u001b[49m\u001b[43mNDArray\u001b[49m\u001b[43m[\u001b[49m\u001b[43mShape\u001b[49m\u001b[43m[\u001b[49m\u001b[38;5;124;43m'\u001b[39;49m\u001b[38;5;124;43m2 x, 2 y\u001b[39;49m\u001b[38;5;124;43m'\u001b[39;49m\u001b[43m]\u001b[49m\u001b[43m,\u001b[49m\u001b[43m \u001b[49m\u001b[43mFloat\u001b[49m\u001b[43m]\u001b[49m\n\u001b[1;32m      3\u001b[0m \u001b[43m    \u001b[49m\u001b[43mb\u001b[49m\u001b[43m:\u001b[49m\u001b[43m \u001b[49m\u001b[38;5;28;43mfloat\u001b[39;49m\n",
      "Cell \u001b[0;32mIn[340], line 2\u001b[0m, in \u001b[0;36mNumpySchema\u001b[0;34m()\u001b[0m\n\u001b[1;32m      1\u001b[0m \u001b[38;5;28;01mclass\u001b[39;00m \u001b[38;5;21;01mNumpySchema\u001b[39;00m(BaseModel):\n\u001b[0;32m----> 2\u001b[0m     a: \u001b[43mNDArray\u001b[49m[Shape[\u001b[38;5;124m'\u001b[39m\u001b[38;5;124m2 x, 2 y\u001b[39m\u001b[38;5;124m'\u001b[39m], Float]\n\u001b[1;32m      3\u001b[0m     b: \u001b[38;5;28mfloat\u001b[39m\n",
      "\u001b[0;31mNameError\u001b[0m: name 'NDArray' is not defined"
     ]
    }
   ],
   "source": [
    "class NumpySchema(BaseModel):\n",
    "    a: NDArray[Shape['2 x, 2 y'], Float]\n",
    "    b: float"
   ]
  },
  {
   "cell_type": "code",
   "execution_count": 33,
   "id": "c0450cc6-dd02-4ca9-bedf-5190c3b0d5c0",
   "metadata": {},
   "outputs": [],
   "source": [
    "n = NumpySchema(a=np.zeros((2, 2)), b=3)"
   ]
  },
  {
   "cell_type": "code",
   "execution_count": 34,
   "id": "9c9f20b8-43fd-41d5-8a9a-1d8e4c907c26",
   "metadata": {},
   "outputs": [
    {
     "data": {
      "text/plain": [
       "{'properties': {'a': {'items': {'items': {'type': 'number'},\n",
       "    'maxItems': 2,\n",
       "    'minItems': 2,\n",
       "    'type': 'array'},\n",
       "   'maxItems': 2,\n",
       "   'minItems': 2,\n",
       "   'title': 'A',\n",
       "   'type': 'array'},\n",
       "  'b': {'title': 'B', 'type': 'number'}},\n",
       " 'required': ['a', 'b'],\n",
       " 'title': 'NumpySchema',\n",
       " 'type': 'object'}"
      ]
     },
     "execution_count": 34,
     "metadata": {},
     "output_type": "execute_result"
    }
   ],
   "source": [
    "n.model_json_schema()"
   ]
  },
  {
   "cell_type": "code",
   "execution_count": null,
   "id": "03ff7081-83d5-4cc8-b3c6-90a1d5faf4fd",
   "metadata": {},
   "outputs": [],
   "source": []
  }
 ],
 "metadata": {
  "kernelspec": {
   "display_name": "Python 3 (ipykernel)",
   "language": "python",
   "name": "python3"
  },
  "language_info": {
   "codemirror_mode": {
    "name": "ipython",
    "version": 3
   },
   "file_extension": ".py",
   "mimetype": "text/x-python",
   "name": "python",
   "nbconvert_exporter": "python",
   "pygments_lexer": "ipython3",
   "version": "3.12.5"
  }
 },
 "nbformat": 4,
 "nbformat_minor": 5
}
